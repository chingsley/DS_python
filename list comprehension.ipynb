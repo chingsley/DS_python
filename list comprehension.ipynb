{
 "cells": [
  {
   "cell_type": "code",
   "execution_count": 4,
   "metadata": {},
   "outputs": [
    {
     "data": {
      "text/plain": [
       "['Beijing',\n",
       " 'New York-Newark',\n",
       " 'Cairo',\n",
       " 'Kinki',\n",
       " 'Mumbai',\n",
       " 'São Paulo',\n",
       " 'Mexico City',\n",
       " 'Shanghai']"
      ]
     },
     "execution_count": 4,
     "metadata": {},
     "output_type": "execute_result"
    }
   ],
   "source": [
    "cities = ['beijing',\n",
    "'new york-newark',\n",
    "'cairo',\n",
    "'kinki',\n",
    "'mumbai',\n",
    "'são paulo',\n",
    "'mexico city',\n",
    "'shanghai']\n",
    "\n",
    "capitalized_cities = [city.title() for city in cities]\n",
    "capitalized_cities"
   ]
  },
  {
   "cell_type": "markdown",
   "metadata": {},
   "source": [
    "### Conditionals in List Comprehensions"
   ]
  },
  {
   "cell_type": "code",
   "execution_count": 13,
   "metadata": {},
   "outputs": [
    {
     "data": {
      "text/plain": [
       "[0, 4, 16, 36, 64]"
      ]
     },
     "execution_count": 13,
     "metadata": {},
     "output_type": "execute_result"
    }
   ],
   "source": [
    "squares = [x**2 for x in range(9) if x % 2 == 0]\n",
    "squares"
   ]
  },
  {
   "cell_type": "markdown",
   "metadata": {},
   "source": [
    "If you would like to add else , you have to move the conditionals to the beginning of the listcomp, right after the expression, like this."
   ]
  },
  {
   "cell_type": "code",
   "execution_count": 1,
   "metadata": {},
   "outputs": [
    {
     "data": {
      "text/plain": [
       "[0, 4, 4, 6, 16, 8, 36, 10, 64]"
      ]
     },
     "execution_count": 1,
     "metadata": {},
     "output_type": "execute_result"
    }
   ],
   "source": [
    "expression = [x**2 if x % 2 == 0 else x + 3 for x in range(9)]\n",
    "expression"
   ]
  },
  {
   "cell_type": "markdown",
   "metadata": {},
   "source": [
    "### Quiz: Extract First Names\n",
    "Use a list comprehension to create a new list `first_names` containing just the first names in names in lowercase."
   ]
  },
  {
   "cell_type": "code",
   "execution_count": 9,
   "metadata": {},
   "outputs": [
    {
     "data": {
      "text/plain": [
       "['jon', 'arya', 'khal', 'gregor', 'daario']"
      ]
     },
     "execution_count": 9,
     "metadata": {},
     "output_type": "execute_result"
    }
   ],
   "source": [
    "names = ['Jon Snow', 'Arya Stark', 'Khal Drogo', 'Gregor Clegane', 'Daario Naharis']\n",
    "first_names = [name.split()[0].lower() for name in names]\n",
    "first_names"
   ]
  },
  {
   "cell_type": "markdown",
   "metadata": {},
   "source": [
    "### Quiz: Multiples of Three\n",
    "Use a list comprehension to create a list `multiples_3` containing **the first 20 multiples of 3.**"
   ]
  },
  {
   "cell_type": "code",
   "execution_count": 14,
   "metadata": {},
   "outputs": [
    {
     "data": {
      "text/plain": [
       "[3, 6, 9, 12, 15, 18, 21, 24, 27, 30, 33, 36, 39, 42, 45, 48, 51, 54, 57]"
      ]
     },
     "execution_count": 14,
     "metadata": {},
     "output_type": "execute_result"
    }
   ],
   "source": [
    "multiples_3 = [x * 3 for x in range(1, 20)]\n",
    "multiples_3"
   ]
  },
  {
   "cell_type": "markdown",
   "metadata": {},
   "source": [
    "### Quiz: Multiples of Three (2)\n",
    "Use a list comprehension to create a list `multiples_3` containing mutliples of 3  **less than 20.**"
   ]
  },
  {
   "cell_type": "code",
   "execution_count": 13,
   "metadata": {},
   "outputs": [
    {
     "data": {
      "text/plain": [
       "[3, 6, 9, 12, 15, 18]"
      ]
     },
     "execution_count": 13,
     "metadata": {},
     "output_type": "execute_result"
    }
   ],
   "source": [
    "multiples_3 = [x for x in range(1, 20) if x % 3 == 0]\n",
    "multiples_3"
   ]
  },
  {
   "cell_type": "markdown",
   "metadata": {},
   "source": [
    "### Quiz: Filter Names by Scores\n",
    "Use a list comprehension to create a list of names `passed` that only include those that scored at least 65."
   ]
  },
  {
   "cell_type": "code",
   "execution_count": 15,
   "metadata": {},
   "outputs": [
    {
     "data": {
      "text/plain": [
       "['Rick Sanchez', 'Summer Smith', 'Beth Smith']"
      ]
     },
     "execution_count": 15,
     "metadata": {},
     "output_type": "execute_result"
    }
   ],
   "source": [
    "scores = {\n",
    "    \"Rick Sanchez\": 70,\n",
    "    \"Morty Smith\": 35,\n",
    "    \"Summer Smith\": 82,\n",
    "    \"Jerry Smith\": 23,\n",
    "    \"Beth Smith\": 98\n",
    "}\n",
    "\n",
    "passed = [name for name, score in scores.items() if score >= 65]\n",
    "passed"
   ]
  }
 ],
 "metadata": {
  "kernelspec": {
   "display_name": "Python 3",
   "language": "python",
   "name": "python3"
  },
  "language_info": {
   "codemirror_mode": {
    "name": "ipython",
    "version": 3
   },
   "file_extension": ".py",
   "mimetype": "text/x-python",
   "name": "python",
   "nbconvert_exporter": "python",
   "pygments_lexer": "ipython3",
   "version": "3.7.4"
  }
 },
 "nbformat": 4,
 "nbformat_minor": 2
}
