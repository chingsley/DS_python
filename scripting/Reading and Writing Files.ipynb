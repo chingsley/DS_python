{
 "cells": [
  {
   "cell_type": "markdown",
   "metadata": {},
   "source": [
    "### How to read from a file\n",
    "We have created a folder named `my_path` in this current directory. The `my_path` folder contains a file named `my_file.txt` and the file contains the following text:\n",
    "\n",
    "`Hello!!\n",
    "You've read the contents of this file!`"
   ]
  },
  {
   "cell_type": "code",
   "execution_count": null,
   "metadata": {},
   "outputs": [],
   "source": [
    "f = open('my_path/my_file.txt', 'r')\n",
    "file_data = f.read()\n",
    "print(file_data)\n",
    "f.close()"
   ]
  },
  {
   "cell_type": "markdown",
   "metadata": {},
   "source": [
    "### Writing to a File\n",
    "\n",
    "NOTE: when the 'w' flag is used:\n",
    "\n",
    "- python will open the flag in write mode\n",
    "- If the file does not exist, Python will create it for you.\n",
    "- If you open an existing file in writing mode, any content that it had contained previously will be deleted.\n",
    "- If you're interested in adding to an existing file, without deleting its content, you should use the append ('a') mode instead of write.\n",
    "- close the file when finished."
   ]
  },
  {
   "cell_type": "code",
   "execution_count": null,
   "metadata": {},
   "outputs": [],
   "source": [
    "f = open('my_path/my_file.txt', 'w')\n",
    "f.write(\"Hello there!\")\n",
    "f.close()\n",
    "\n",
    "# now reading the new content\n",
    "f = open('my_path/my_file.txt', 'r')\n",
    "file_data = f.read()\n",
    "print(file_data)\n",
    "f.close()"
   ]
  },
  {
   "cell_type": "markdown",
   "metadata": {},
   "source": [
    "### Appending to an existing file\n",
    "- to append to an existing file we use the 'a' flag"
   ]
  },
  {
   "cell_type": "code",
   "execution_count": null,
   "metadata": {},
   "outputs": [],
   "source": [
    "f = open('my_path/my_file.txt', 'a')\n",
    "f.write(\"\\nthis is the appended content!\")\n",
    "f.close()\n",
    "\n",
    "\n",
    "# now reading the new content\n",
    "f = open('my_path/my_file.txt', 'r')\n",
    "file_data = f.read()\n",
    "print(file_data)\n",
    "f.close()"
   ]
  },
  {
   "cell_type": "markdown",
   "metadata": {},
   "source": [
    "### with\n",
    "\n",
    "Python provides a special syntax that auto-closes a file for you once you're finished using it. Below is the syntax for `with`"
   ]
  },
  {
   "cell_type": "code",
   "execution_count": null,
   "metadata": {},
   "outputs": [],
   "source": [
    "with open('my_path/my_file.txt', 'r') as f:\n",
    "    file_data = f.read()\n",
    "    print(file_data)"
   ]
  },
  {
   "cell_type": "markdown",
   "metadata": {},
   "source": [
    "### Calling the read Method with an Integer\n",
    "calling f.read() with no arguments passed to it defaults to reading all the remainder of the file from its current position - the whole file. If you pass the read method an integer argument, it will read up to that number of characters, output all of them, and keep the 'window' at that position ready to read on. I have created a new file in `my_path` folder. The file is named `camelot.txt`. camelot.txt contains the following text:\n",
    "\n",
    "`\n",
    "We're the knights of the round table\n",
    "We dance whenever we're able\n",
    "`"
   ]
  },
  {
   "cell_type": "code",
   "execution_count": 4,
   "metadata": {},
   "outputs": [
    {
     "name": "stdout",
     "output_type": "stream",
     "text": [
      "We\n",
      "'re the \n",
      "knights of the round table\n",
      "We dance whenever we're able\n"
     ]
    }
   ],
   "source": [
    "with open('my_path/camelot.txt') as song:\n",
    "    print(song.read(2))\n",
    "    print(song.read(8))\n",
    "    print(song.read())"
   ]
  },
  {
   "cell_type": "markdown",
   "metadata": {},
   "source": [
    "### Reading Line by Line\n",
    "Python will loop over the lines of a file using the syntax `for line in file` . We can use this to create a list of lines in the file. Because each line still has its newline character attached, we remove the newline character using `.strip()`\n",
    "\n",
    "NOTE: `.strip()` removes `\\n` from the end of a string *if the newline character exists*. If the newline character does not exist .strip() will not remove any character."
   ]
  },
  {
   "cell_type": "code",
   "execution_count": 1,
   "metadata": {},
   "outputs": [
    {
     "name": "stdout",
     "output_type": "stream",
     "text": [
      "[\"We're the knights of the round table\\n\", \"We dance whenever we're able\"]\n"
     ]
    },
    {
     "data": {
      "text/plain": [
       "[\"We're the knights of the round table\", \"We dance whenever we're able\"]"
      ]
     },
     "execution_count": 1,
     "metadata": {},
     "output_type": "execute_result"
    }
   ],
   "source": [
    "camelot_lines = []\n",
    "with open('my_path/camelot.txt') as f:\n",
    "    for line in f:\n",
    "        camelot_lines.append(line)\n",
    "        #camelot_lines.append(line.strip())\n",
    "        \n",
    "        \n",
    "print(camelot_lines)\n",
    "[line.strip() for line in camelot_lines]"
   ]
  },
  {
   "cell_type": "markdown",
   "metadata": {},
   "source": [
    "### Quiz: Flying Circus Cast List\n",
    "You're going to create a list of the actors who appeared in the television programme Monty Python's Flying Circus.\n",
    "Write a function called that takes a filename as input and returns a list of actors' names. It will be run on the file (this information was collected from imdb.com). Each line of that file consists of an actor's name, a comma, and then some (messy) information about roles they played in the programme. You'll need to extract only the name and add it to a list. You might use the .split() method to process each line."
   ]
  },
  {
   "cell_type": "code",
   "execution_count": 5,
   "metadata": {},
   "outputs": [
    {
     "name": "stdout",
     "output_type": "stream",
     "text": [
      "['Graham Chapman', 'Eric Idle', 'Terry Jones', 'Michael Palin', 'Terry Gilliam', 'John Cleese', 'Carol Cleveland', 'Ian Davidson', 'John Hughman', 'The Fred Tomlinson Singers', 'Connie Booth', 'Bob Raymond', 'Lyn Ashley', 'Rita Davies', 'Stanley Mason', 'David Ballantyne', 'Donna Reading', 'Peter Brett', 'Maureen Flanagan', 'Katya Wyeth', 'Frank Lester', 'Neil Innes', 'Dick Vosburgh', 'Sandra Richards', 'Julia Breck', 'Nicki Howorth', 'Jimmy Hill', 'Barry Cryer', 'Jeannette Wild', 'Marjorie Wilde', 'Marie Anderson', 'Caron Gardner', 'Nosher Powell', 'Carolae Donoghue', 'Vincent Wong', 'Helena Clayton', 'Nigel Jones', 'Roy Gunson', 'Daphne Davey', 'Stenson Falke', 'Alexander Curry', 'Frank Williams', 'Ralph Wood', 'Rosalind Bailey', 'Marion Mould', 'Sheila Sands', 'Richard Baker', 'Douglas Adams', 'Ewa Aulin', 'Reginald Bosanquet', 'Barbara Lindley', 'Roy Brent', 'Jonas Card', 'Tony Christopher', 'Beulah Hughes', 'Peter Kodak', 'Lulu', 'Jay Neill', 'Graham Skidmore', 'Ringo Starr', 'Fred Tomlinson', 'David Hamilton', 'Suzy Mandel', 'Peter Woods']\n"
     ]
    }
   ],
   "source": [
    "def create_cast_list(filepath):\n",
    "    cast_list = []\n",
    "    with open(filepath) as file:\n",
    "        for line in file:\n",
    "            cast_list.append(line.split(',')[0])\n",
    "            \n",
    "    return cast_list\n",
    "            \n",
    "            \n",
    "print(create_cast_list('my_path/flying_circus_cast.txt'))"
   ]
  },
  {
   "cell_type": "markdown",
   "metadata": {},
   "source": [
    "### The generate password challenge"
   ]
  },
  {
   "cell_type": "code",
   "execution_count": 7,
   "metadata": {},
   "outputs": [
    {
     "ename": "NameError",
     "evalue": "name 'random' is not defined",
     "output_type": "error",
     "traceback": [
      "\u001b[0;31m---------------------------------------------------------------------------\u001b[0m",
      "\u001b[0;31mNameError\u001b[0m                                 Traceback (most recent call last)",
      "\u001b[0;32m<ipython-input-7-dc6e30801a2c>\u001b[0m in \u001b[0;36m<module>\u001b[0;34m\u001b[0m\n\u001b[1;32m     22\u001b[0m \u001b[0;34m\u001b[0m\u001b[0m\n\u001b[1;32m     23\u001b[0m \u001b[0;34m\u001b[0m\u001b[0m\n\u001b[0;32m---> 24\u001b[0;31m \u001b[0mprint\u001b[0m\u001b[0;34m(\u001b[0m\u001b[0mgenerate_password\u001b[0m\u001b[0;34m(\u001b[0m\u001b[0;34m)\u001b[0m\u001b[0;34m)\u001b[0m\u001b[0;34m\u001b[0m\u001b[0;34m\u001b[0m\u001b[0m\n\u001b[0m",
      "\u001b[0;32m<ipython-input-7-dc6e30801a2c>\u001b[0m in \u001b[0;36mgenerate_password\u001b[0;34m()\u001b[0m\n\u001b[1;32m     19\u001b[0m \u001b[0;34m\u001b[0m\u001b[0m\n\u001b[1;32m     20\u001b[0m \u001b[0;32mdef\u001b[0m \u001b[0mgenerate_password\u001b[0m\u001b[0;34m(\u001b[0m\u001b[0;34m)\u001b[0m\u001b[0;34m:\u001b[0m\u001b[0;34m\u001b[0m\u001b[0;34m\u001b[0m\u001b[0m\n\u001b[0;32m---> 21\u001b[0;31m     \u001b[0;32mreturn\u001b[0m \u001b[0;34m''\u001b[0m\u001b[0;34m.\u001b[0m\u001b[0mjoin\u001b[0m\u001b[0;34m(\u001b[0m\u001b[0mrandom\u001b[0m\u001b[0;34m.\u001b[0m\u001b[0msample\u001b[0m\u001b[0;34m(\u001b[0m\u001b[0mword_list\u001b[0m\u001b[0;34m,\u001b[0m \u001b[0;36m3\u001b[0m\u001b[0;34m)\u001b[0m\u001b[0;34m)\u001b[0m\u001b[0;34m\u001b[0m\u001b[0;34m\u001b[0m\u001b[0m\n\u001b[0m\u001b[1;32m     22\u001b[0m \u001b[0;34m\u001b[0m\u001b[0m\n\u001b[1;32m     23\u001b[0m \u001b[0;34m\u001b[0m\u001b[0m\n",
      "\u001b[0;31mNameError\u001b[0m: name 'random' is not defined"
     ]
    }
   ],
   "source": [
    "# import random\n",
    "\n",
    "words_file = './words.txt'\n",
    "\n",
    "word_list = []\n",
    "\n",
    "\n",
    "with open('my_path/words.txt', 'r') as words:\n",
    "    for line in words:\n",
    "        # remove white space and make everything lowercase\n",
    "        word = line.strip().lower()\n",
    "        # don't include words that are too long or too short\n",
    "        if 3 < len(word) < 8:\n",
    "            word_list.append(word)\n",
    "\n",
    "            \n",
    "# def generate_password():\n",
    "#     return random.choice(word_list) + random.choice(word_list) + random.choice(word_list)\n",
    "\n",
    "def generate_password():\n",
    "    return ''.join(random.sample(word_list, 3))\n",
    "\n",
    "\n",
    "print(generate_password())\n"
   ]
  },
  {
   "cell_type": "markdown",
   "metadata": {},
   "source": [
    "### Too Many Open Files\n",
    "\n",
    "The code below shows the outcome of opening files without closing them.\n",
    "\n",
    "NOTE. Once this cell is executed, no other cell can be executed due to the error"
   ]
  },
  {
   "cell_type": "code",
   "execution_count": 2,
   "metadata": {},
   "outputs": [],
   "source": [
    "# files = []\n",
    "# for i in range(1000):\n",
    "#     files.append(open('my_path/my_file.txt', 'r'))\n",
    "#     print(i)"
   ]
  },
  {
   "cell_type": "code",
   "execution_count": null,
   "metadata": {},
   "outputs": [],
   "source": []
  }
 ],
 "metadata": {
  "kernelspec": {
   "display_name": "Python 3",
   "language": "python",
   "name": "python3"
  },
  "language_info": {
   "codemirror_mode": {
    "name": "ipython",
    "version": 3
   },
   "file_extension": ".py",
   "mimetype": "text/x-python",
   "name": "python",
   "nbconvert_exporter": "python",
   "pygments_lexer": "ipython3",
   "version": "3.7.4"
  }
 },
 "nbformat": 4,
 "nbformat_minor": 2
}
